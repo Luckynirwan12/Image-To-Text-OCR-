{
  "nbformat": 4,
  "nbformat_minor": 0,
  "metadata": {
    "colab": {
      "provenance": [],
      "authorship_tag": "ABX9TyPGHUjIVeR7M2Wh7MZU4FiO",
      "include_colab_link": true
    },
    "kernelspec": {
      "name": "python3",
      "display_name": "Python 3"
    },
    "language_info": {
      "name": "python"
    }
  },
  "cells": [
    {
      "cell_type": "markdown",
      "metadata": {
        "id": "view-in-github",
        "colab_type": "text"
      },
      "source": [
        "<a href=\"https://colab.research.google.com/github/Luckynirwan12/Image-To-Text-OCR-/blob/main/Image_To_Text(OCR).ipynb\" target=\"_parent\"><img src=\"https://colab.research.google.com/assets/colab-badge.svg\" alt=\"Open In Colab\"/></a>"
      ]
    },
    {
      "cell_type": "markdown",
      "source": [
        "# **Image To Text (OCR)**"
      ],
      "metadata": {
        "id": "vBgVIFDskUBx"
      }
    },
    {
      "cell_type": "code",
      "execution_count": 2,
      "metadata": {
        "colab": {
          "base_uri": "https://localhost:8080/"
        },
        "id": "U6dgtq83f2iC",
        "outputId": "4f3a450d-0c74-4850-ed8e-586fa3545270"
      },
      "outputs": [
        {
          "output_type": "stream",
          "name": "stdout",
          "text": [
            "Reading package lists... Done\n",
            "Building dependency tree... Done\n",
            "Reading state information... Done\n",
            "tesseract-ocr is already the newest version (4.1.1-2.1build1).\n",
            "0 upgraded, 0 newly installed, 0 to remove and 35 not upgraded.\n",
            "Requirement already satisfied: pytesseract in /usr/local/lib/python3.11/dist-packages (0.3.13)\n",
            "Requirement already satisfied: packaging>=21.3 in /usr/local/lib/python3.11/dist-packages (from pytesseract) (24.2)\n",
            "Requirement already satisfied: Pillow>=8.0.0 in /usr/local/lib/python3.11/dist-packages (from pytesseract) (9.0.0)\n",
            "Requirement already satisfied: Pillow==9.0.0 in /usr/local/lib/python3.11/dist-packages (9.0.0)\n"
          ]
        }
      ],
      "source": [
        "# Install required packages\n",
        "!sudo apt install tesseract-ocr   # Install Tesseract OCR engine for extract text from images.\n",
        "!pip install pytesseract          # Python wrapper for Tesseract\n",
        "!pip install Pillow==9.0.0        # Pillow for image handling (version 9.0.0)"
      ]
    },
    {
      "cell_type": "code",
      "source": [
        "# Import libraries\n",
        "import pytesseract               # For extracting text from image\n",
        "from PIL import Image            # For image processing"
      ],
      "metadata": {
        "id": "ffWM9r5QhEbG"
      },
      "execution_count": 4,
      "outputs": []
    },
    {
      "cell_type": "code",
      "source": [
        "# Open the image from file path\n",
        "img = Image.open('/content/image.png')          # Open the image from file path\n",
        "print(img)                                      # Print image details (format, size, mode)"
      ],
      "metadata": {
        "colab": {
          "base_uri": "https://localhost:8080/"
        },
        "id": "275MtHyHh6S_",
        "outputId": "1c2a0fb2-822d-4679-a556-26cae062a0b2"
      },
      "execution_count": 7,
      "outputs": [
        {
          "output_type": "stream",
          "name": "stdout",
          "text": [
            "<PIL.PngImagePlugin.PngImageFile image mode=RGBA size=1240x1260 at 0x7BE281B0DB50>\n"
          ]
        }
      ]
    },
    {
      "cell_type": "code",
      "source": [
        "# Extract text from the image using OCR\n",
        "result = pytesseract.image_to_string(img)      # Run OCR and store extracted text\n",
        "print(result)                                  # Print extracted text"
      ],
      "metadata": {
        "colab": {
          "base_uri": "https://localhost:8080/"
        },
        "id": "R_X-G556iFS1",
        "outputId": "1a68dbea-76f1-4201-e5fe-cd4aef99297d"
      },
      "execution_count": 8,
      "outputs": [
        {
          "output_type": "stream",
          "name": "stdout",
          "text": [
            "How does Computer Vision work?\n",
            "\n",
            "Acquiring an image\n",
            "\n",
            "Images, even large sets, can be acquired\n",
            "in real-time through video, photos or 3D\n",
            "technology for analysis.\n",
            "\n",
            "Processing the image\n",
            "\n",
            "Deep learning models automate much of\n",
            "this process, but the models are often\n",
            "trained by first being fed a thousand of\n",
            "labeled or pre-identified images.\n",
            "\n",
            "Understanding the image\n",
            "\n",
            "The final step is the interpretative step,\n",
            "where an object is identified or classified.\n",
            "\n",
            "V7 Labs\n",
            "\f\n"
          ]
        }
      ]
    }
  ]
}